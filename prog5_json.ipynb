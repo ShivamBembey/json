{
 "cells": [
  {
   "cell_type": "code",
   "execution_count": 1,
   "id": "c039b622",
   "metadata": {},
   "outputs": [
    {
     "ename": "ModuleNotFoundError",
     "evalue": "No module named 'myModule'",
     "output_type": "error",
     "traceback": [
      "\u001b[1;31m---------------------------------------------------------------------------\u001b[0m",
      "\u001b[1;31mModuleNotFoundError\u001b[0m                       Traceback (most recent call last)",
      "Input \u001b[1;32mIn [1]\u001b[0m, in \u001b[0;36m<cell line: 1>\u001b[1;34m()\u001b[0m\n\u001b[1;32m----> 1\u001b[0m \u001b[38;5;28;01mimport\u001b[39;00m \u001b[38;5;21;01mmyModule\u001b[39;00m\n\u001b[0;32m      2\u001b[0m myModule\u001b[38;5;241m.\u001b[39mgreeting(\u001b[38;5;124m\"\u001b[39m\u001b[38;5;124mShivam\u001b[39m\u001b[38;5;124m\"\u001b[39m)\n",
      "\u001b[1;31mModuleNotFoundError\u001b[0m: No module named 'myModule'"
     ]
    }
   ],
   "source": [
    "import myModule\n",
    "myModule.greeting(\"Shivam\")"
   ]
  },
  {
   "cell_type": "code",
   "execution_count": 6,
   "id": "98d56269",
   "metadata": {},
   "outputs": [
    {
     "name": "stdout",
     "output_type": "stream",
     "text": [
      "19\n"
     ]
    }
   ],
   "source": [
    "import random\n",
    "namee = random.randint(0 , 28)\n",
    "print(namee)"
   ]
  },
  {
   "cell_type": "code",
   "execution_count": 2,
   "id": "33192cdb",
   "metadata": {},
   "outputs": [
    {
     "name": "stdout",
     "output_type": "stream",
     "text": [
      "<class 'str'>\n",
      "{ \"Name\":\"Shivam\", \"ID\":587, \"Age\":23}\n"
     ]
    }
   ],
   "source": [
    "import json \n",
    "x = '{ \"Name\":\"Shivam\", \"ID\":587, \"Age\":23}'\n",
    "nameee = json.loads(x)\n",
    "print(type(x))\n",
    "print(x)"
   ]
  },
  {
   "cell_type": "code",
   "execution_count": 11,
   "id": "cbcc7fbd",
   "metadata": {},
   "outputs": [
    {
     "name": "stdout",
     "output_type": "stream",
     "text": [
      "<class 'dict'>\n",
      "{\n",
      "    \"Father Name\"=\"Pankaj\".\n",
      "    \"Mother Name\"=\"Maya\".\n",
      "    \"Name\"=\"Shivam\".\n",
      "    \"Siblings\"=[\n",
      "        \"Shubham\".\n",
      "        \"Garima\"\n",
      "    ].\n",
      "    \"age\"=22.\n",
      "    \"profession\"=\"Software Engineer\"\n",
      "}\n"
     ]
    }
   ],
   "source": [
    "import json\n",
    "\n",
    "myDict ={ \"Name\":\"Shivam\",\n",
    "    \"Mother Name\":\"Maya\" ,\n",
    "    \"age\":22 ,\n",
    "    \"Siblings\":[\"Shubham\",\"Garima\" ] ,\n",
    "    \"Father Name\" : \"Pankaj\" , \n",
    "    \"profession\":\"Software Engineer\"\n",
    "    }\n",
    "print(type(myDict))\n",
    "x=json.dumps(myDict, indent=4, sort_keys=True, separators=(\".\",\"=\"))\n",
    "print(x)"
   ]
  },
  {
   "cell_type": "code",
   "execution_count": 12,
   "id": "e1c5548d",
   "metadata": {},
   "outputs": [],
   "source": [
    "import json\n",
    "  \n",
    "# python object(dictionary) to be dumped\n",
    "dict1 ={\n",
    "    \"emp1\": {\n",
    "        \"name\": \"Lisa\",\n",
    "        \"designation\": \"programmer\",\n",
    "        \"age\": \"34\",\n",
    "        \"salary\": \"54000\"\n",
    "    },\n",
    "    \"emp2\": {\n",
    "        \"name\": \"Elis\",\n",
    "        \"designation\": \"Trainee\",\n",
    "        \"age\": \"24\",\n",
    "        \"salary\": \"40000\"\n",
    "    },\n",
    "}\n",
    "  \n",
    "# the json file where the output must be stored\n",
    "out_file = open(\"myfile.json\", \"w\")\n",
    "  \n",
    "json.dump(dict1, out_file, indent = 6)\n",
    "  \n",
    "out_file.close()"
   ]
  },
  {
   "cell_type": "code",
   "execution_count": 13,
   "id": "57d0984f",
   "metadata": {},
   "outputs": [
    {
     "name": "stdout",
     "output_type": "stream",
     "text": [
      "30\n"
     ]
    }
   ],
   "source": [
    "# If you have a JSON string, you can parse it by using the json.loads() method.\n",
    "import json\n",
    "\n",
    "# some JSON:\n",
    "x =  '{ \"name\":\"John\", \"age\":30, \"city\":\"New York\"}'\n",
    "\n",
    "# parse x:\n",
    "y = json.loads(x)\n",
    "\n",
    "# the result is a Python dictionary:\n",
    "print(y[\"age\"])"
   ]
  },
  {
   "cell_type": "code",
   "execution_count": 14,
   "id": "b5cfa899",
   "metadata": {},
   "outputs": [
    {
     "name": "stdout",
     "output_type": "stream",
     "text": [
      "{\"name\": \"John\", \"age\": 30, \"city\": \"New York\"}\n"
     ]
    }
   ],
   "source": [
    "# If you have a Python object, you can convert it into a JSON string by using the json.dumps() method.\n",
    "import json\n",
    "\n",
    "# a Python object (dict):\n",
    "x = {\n",
    "  \"name\": \"John\",\n",
    "  \"age\": 30,\n",
    "  \"city\": \"New York\"\n",
    "}\n",
    "\n",
    "# convert into JSON:\n",
    "y = json.dumps(x)\n",
    "\n",
    "# the result is a JSON string:\n",
    "print(y)"
   ]
  },
  {
   "cell_type": "code",
   "execution_count": null,
   "id": "20347e66",
   "metadata": {},
   "outputs": [],
   "source": [
    "# Ques  :    In dumps function what are the parameters that we have and what do they do, explain with small program ?\n",
    "\n",
    "# \"\"\"There are 4 arguments to pass inside dumps() method\"\"\"\n",
    "# 1. An object which we need to convert\n",
    "# 2. indent , give spaces to read and understand it in a eficient manner\n",
    "# 3. sort_keys , to sort the content alphabetically or numerically\n",
    "# 4. seperators , it is used to seperate the key values pair to better understanding and readability (\",\",\".\",\"=\")\n",
    "import json\n",
    "x = {\n",
    "  \"name\": \"John\",\n",
    "  \"age\": 30,\n",
    "  \"married\": True,\n",
    "  \"divorced\": False,\n",
    "  \"children\": (\"Ann\",\"Billy\"),\n",
    "  \"pets\": None,\n",
    "  \"cars\": [\n",
    "    {\"model\": \"BMW 230\", \"mpg\": 27.5},\n",
    "    {\"model\": \"Ford Edge\", \"mpg\": 24.1}\n",
    "  ]\n",
    "}\n",
    "# The json.dumps() method has parameters to make it easier to read the result:\n",
    "# use four indents to make it easier to read the result:\n",
    "print(json.dumps(x, indent=4))\n",
    "# You can also define the separators, default value is (\", \", \": \"), which means using a comma and a space to separate each object, and a colon and a space to separate keys from values:\n",
    "# use . and a space to separate objects, and a space, a = and a space to separate keys from their values:\n",
    "print(json.dumps(x, indent=4, separators=(\". \", \" = \")))\n",
    "# The json.dumps() method has parameters to order the keys in the result:\n",
    "# sort the result alphabetically by keys:\n",
    "print(json.dumps(x, indent=4, sort_keys=True))"
   ]
  },
  {
   "cell_type": "code",
   "execution_count": null,
   "id": "59535049",
   "metadata": {},
   "outputs": [],
   "source": [
    "# # Serialize the dictionary with various options\n",
    "# with open(\"data.json\", \"w\") as outfile:\n",
    "#     json.dump(data, outfile, indent=4, sort_keys=True)\n",
    "\n",
    "# # Deserialize the JSON formatted string from the file\n",
    "# with open(\"data.json\", \"r\") as infile:\n",
    "#     json_str = infile.read()\n",
    "#     data = json.loads(json_str)\n",
    "\n",
    "# # Print the deserialized data\n",
    "# print(data)\n"
   ]
  },
  {
   "cell_type": "code",
   "execution_count": null,
   "id": "4e1d821e",
   "metadata": {},
   "outputs": [],
   "source": [
    "# try:\n",
    "#     print(x)\n",
    "# except:\n",
    "#     print(\"It's an error .\") \n",
    "# else:\n",
    "#     print(\"No correction needed !\")\n",
    "# finally:\n",
    "#     print(\"Its working is Progressing....\")\n",
    "\n",
    "# # Ques  :  How can we raise an exception, WAP. ?\n",
    "\n",
    "# Age = int(input(\"enter your Age : \"))\n",
    "# if Age >=18:\n",
    "#     print(\" YOU ARE AN ADULT\")\n",
    "\n",
    "# else:\n",
    "#     raise Exception(\" YOU ARE AN ADOLESCENT \")\n"
   ]
  }
 ],
 "metadata": {
  "kernelspec": {
   "display_name": "Python 3 (ipykernel)",
   "language": "python",
   "name": "python3"
  },
  "language_info": {
   "codemirror_mode": {
    "name": "ipython",
    "version": 3
   },
   "file_extension": ".py",
   "mimetype": "text/x-python",
   "name": "python",
   "nbconvert_exporter": "python",
   "pygments_lexer": "ipython3",
   "version": "3.9.12"
  }
 },
 "nbformat": 4,
 "nbformat_minor": 5
}
